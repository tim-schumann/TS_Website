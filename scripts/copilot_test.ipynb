{
 "cells": [
  {
   "cell_type": "code",
   "execution_count": null,
   "metadata": {},
   "outputs": [],
   "source": [
    "# create 5 lists of random points\n",
    "\n",
    "import numpy as np\n",
    "\n",
    "for i in range(5):\n",
    "    x = np.random.rand(100)\n",
    "    y = np.random.rand(100)\n",
    "    z = np.random.rand(100)\n",
    "\n",
    "\n"
   ]
  }
 ],
 "metadata": {
  "language_info": {
   "name": "python"
  },
  "orig_nbformat": 4
 },
 "nbformat": 4,
 "nbformat_minor": 2
}
